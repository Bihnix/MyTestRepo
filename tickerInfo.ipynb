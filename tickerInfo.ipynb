{
 "cells": [
  {
   "cell_type": "code",
   "execution_count": 24,
   "metadata": {},
   "outputs": [],
   "source": [
    "# import python library to get the APPL stock price using yfinance\n",
    "import yfinance as yf\n",
    "import pandas as pd\n",
    "\n",
    "class StockTicker:\n",
    "    \"\"\"\n",
    "    This class represents a stock ticker and provides methods to retrieve and save ticker information and historical market data.\n",
    "    \"\"\"\n",
    "    def __init__(self, ticker_symbol):\n",
    "        \"\"\"\n",
    "        Initializes a StockTicker object with the given ticker symbol.\n",
    "        \n",
    "        Parameters:\n",
    "        ticker_symbol (str): The symbol of the stock for which to retrieve data.\n",
    "        \"\"\"\n",
    "        self.ticker_symbol = ticker_symbol\n",
    "\n",
    "    def get_ticker_data(self):\n",
    "        \"\"\"\n",
    "        Retrieves and saves the ticker information and historical market data of the stock.\n",
    "        \n",
    "        Parameters:\n",
    "        None\n",
    "\n",
    "        Returns:\n",
    "        None\n",
    "        \"\"\"\n",
    "        # Create a Ticker object for the given stock symbol\n",
    "        ticker = yf.Ticker(self.ticker_symbol)\n",
    "        \n",
    "        # Get the ticker information and convert it to a pandas DataFrame\n",
    "        ticker_info_df = pd.DataFrame(ticker.info)\n",
    "        \n",
    "        # Save the ticker information to a CSV file\n",
    "        ticker_info_df.to_csv(f\"{self.ticker_symbol}_info.csv\")\n",
    "        \n",
    "        # Get the historical market data for the given stock\n",
    "        hist = ticker.history(period=\"max\")\n",
    "        \n",
    "        # Save the historical market data to a CSV file\n",
    "        hist.to_csv(f\"{self.ticker_symbol}_hist.csv\")\n",
    "\n",
    "\n",
    "    \n",
    "# Usage example\n",
    "stock_ticker = StockTicker(\"AAPL\")\n",
    "stock_ticker.get_ticker_data()"
   ]
  },
  {
   "cell_type": "code",
   "execution_count": null,
   "metadata": {},
   "outputs": [],
   "source": []
  },
  {
   "cell_type": "code",
   "execution_count": null,
   "metadata": {},
   "outputs": [],
   "source": []
  },
  {
   "cell_type": "code",
   "execution_count": null,
   "metadata": {},
   "outputs": [],
   "source": []
  },
  {
   "cell_type": "code",
   "execution_count": null,
   "metadata": {},
   "outputs": [],
   "source": []
  }
 ],
 "metadata": {
  "kernelspec": {
   "display_name": "env-ML",
   "language": "python",
   "name": "python3"
  },
  "language_info": {
   "codemirror_mode": {
    "name": "ipython",
    "version": 3
   },
   "file_extension": ".py",
   "mimetype": "text/x-python",
   "name": "python",
   "nbconvert_exporter": "python",
   "pygments_lexer": "ipython3",
   "version": "3.12.2"
  }
 },
 "nbformat": 4,
 "nbformat_minor": 2
}
